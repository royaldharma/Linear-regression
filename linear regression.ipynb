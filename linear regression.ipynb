{
 "cells": [
  {
   "cell_type": "code",
   "execution_count": 39,
   "id": "7fb8ae37",
   "metadata": {},
   "outputs": [],
   "source": [
    "#linear \n",
    "import pandas as pd\n",
    "import numpy as np\n",
    "import matplotlib.pyplot as plt"
   ]
  },
  {
   "cell_type": "code",
   "execution_count": 5,
   "id": "8d969957",
   "metadata": {},
   "outputs": [],
   "source": [
    "#creating a data frame\n",
    "dt={\n",
    "    \"x\":[i for i in range(1,8)],\n",
    "    \"y\":[1.5,3.8,6.7,9.0,11.2,13.6,16.0]\n",
    "}\n",
    "\n"
   ]
  },
  {
   "cell_type": "code",
   "execution_count": 6,
   "id": "6d639c86",
   "metadata": {},
   "outputs": [
    {
     "name": "stdout",
     "output_type": "stream",
     "text": [
      "{'x': [1, 2, 3, 4, 5, 6, 7], 'y': [1.5, 3.8, 6.7, 9.0, 11.2, 13.6, 16.0]}\n"
     ]
    }
   ],
   "source": [
    "print(dt)"
   ]
  },
  {
   "cell_type": "code",
   "execution_count": 11,
   "id": "99ac7d2b",
   "metadata": {},
   "outputs": [],
   "source": [
    "df=pd.DataFrame(data=dt)"
   ]
  },
  {
   "cell_type": "code",
   "execution_count": 14,
   "id": "a6613e82",
   "metadata": {},
   "outputs": [
    {
     "data": {
      "text/plain": [
       "0     1.5\n",
       "1     3.8\n",
       "2     6.7\n",
       "3     9.0\n",
       "4    11.2\n",
       "5    13.6\n",
       "6    16.0\n",
       "Name: y, dtype: float64"
      ]
     },
     "execution_count": 14,
     "metadata": {},
     "output_type": "execute_result"
    }
   ],
   "source": [
    "df[\"y\"]"
   ]
  },
  {
   "cell_type": "markdown",
   "id": "6603d8c5",
   "metadata": {},
   "source": [
    "# y=m*x+c\n",
    "$$m=\\frac{n\\sum xy-\\sum x\\sum y}{n\\sum x^{2}- (\\sum x^{2})}"
   ]
  },
  {
   "cell_type": "code",
   "execution_count": 15,
   "id": "1a4327c5",
   "metadata": {},
   "outputs": [],
   "source": [
    "df['x2']=df['x']**2\n",
    "df['xy']=df['x']*df['y']\n"
   ]
  },
  {
   "cell_type": "code",
   "execution_count": 16,
   "id": "e5514b07",
   "metadata": {},
   "outputs": [
    {
     "data": {
      "text/html": [
       "<div>\n",
       "<style scoped>\n",
       "    .dataframe tbody tr th:only-of-type {\n",
       "        vertical-align: middle;\n",
       "    }\n",
       "\n",
       "    .dataframe tbody tr th {\n",
       "        vertical-align: top;\n",
       "    }\n",
       "\n",
       "    .dataframe thead th {\n",
       "        text-align: right;\n",
       "    }\n",
       "</style>\n",
       "<table border=\"1\" class=\"dataframe\">\n",
       "  <thead>\n",
       "    <tr style=\"text-align: right;\">\n",
       "      <th></th>\n",
       "      <th>x</th>\n",
       "      <th>y</th>\n",
       "      <th>x2</th>\n",
       "      <th>xy</th>\n",
       "    </tr>\n",
       "  </thead>\n",
       "  <tbody>\n",
       "    <tr>\n",
       "      <th>0</th>\n",
       "      <td>1</td>\n",
       "      <td>1.5</td>\n",
       "      <td>1</td>\n",
       "      <td>1.5</td>\n",
       "    </tr>\n",
       "    <tr>\n",
       "      <th>1</th>\n",
       "      <td>2</td>\n",
       "      <td>3.8</td>\n",
       "      <td>4</td>\n",
       "      <td>7.6</td>\n",
       "    </tr>\n",
       "    <tr>\n",
       "      <th>2</th>\n",
       "      <td>3</td>\n",
       "      <td>6.7</td>\n",
       "      <td>9</td>\n",
       "      <td>20.1</td>\n",
       "    </tr>\n",
       "    <tr>\n",
       "      <th>3</th>\n",
       "      <td>4</td>\n",
       "      <td>9.0</td>\n",
       "      <td>16</td>\n",
       "      <td>36.0</td>\n",
       "    </tr>\n",
       "    <tr>\n",
       "      <th>4</th>\n",
       "      <td>5</td>\n",
       "      <td>11.2</td>\n",
       "      <td>25</td>\n",
       "      <td>56.0</td>\n",
       "    </tr>\n",
       "    <tr>\n",
       "      <th>5</th>\n",
       "      <td>6</td>\n",
       "      <td>13.6</td>\n",
       "      <td>36</td>\n",
       "      <td>81.6</td>\n",
       "    </tr>\n",
       "    <tr>\n",
       "      <th>6</th>\n",
       "      <td>7</td>\n",
       "      <td>16.0</td>\n",
       "      <td>49</td>\n",
       "      <td>112.0</td>\n",
       "    </tr>\n",
       "  </tbody>\n",
       "</table>\n",
       "</div>"
      ],
      "text/plain": [
       "   x     y  x2     xy\n",
       "0  1   1.5   1    1.5\n",
       "1  2   3.8   4    7.6\n",
       "2  3   6.7   9   20.1\n",
       "3  4   9.0  16   36.0\n",
       "4  5  11.2  25   56.0\n",
       "5  6  13.6  36   81.6\n",
       "6  7  16.0  49  112.0"
      ]
     },
     "execution_count": 16,
     "metadata": {},
     "output_type": "execute_result"
    }
   ],
   "source": [
    "df"
   ]
  },
  {
   "cell_type": "code",
   "execution_count": 19,
   "id": "6561d97b",
   "metadata": {},
   "outputs": [],
   "source": [
    "sum_xy=df['xy'].sum()\n",
    "sum_x=df['x'].sum()\n",
    "sum_y=df['y'].sum()\n",
    "sum_x_y=sum_x*sum_y\n",
    "sum_x_2=df['x2'].sum()#summmation of x*2\n",
    "sum_x_2_2=(sum_x)**2\n",
    "n=len(df)"
   ]
  },
  {
   "cell_type": "code",
   "execution_count": 20,
   "id": "13b5b77c",
   "metadata": {},
   "outputs": [
    {
     "data": {
      "text/plain": [
       "(314.8, 28, 61.800000000000004, 140, 784, 7)"
      ]
     },
     "execution_count": 20,
     "metadata": {},
     "output_type": "execute_result"
    }
   ],
   "source": [
    "sum_xy,sum_x,sum_y,sum_x_2,sum_x_2_2,n"
   ]
  },
  {
   "cell_type": "code",
   "execution_count": 23,
   "id": "c70aeb4f",
   "metadata": {},
   "outputs": [],
   "source": [
    "m_nume=(n*sum_xy)-(sum_x*sum_y)\n",
    "m_deno=(n*sum_x_2)-(sum_x_2_2)"
   ]
  },
  {
   "cell_type": "code",
   "execution_count": 24,
   "id": "8e2a228c",
   "metadata": {},
   "outputs": [],
   "source": [
    "m=m_nume/m_deno"
   ]
  },
  {
   "cell_type": "code",
   "execution_count": 25,
   "id": "0cdf4a19",
   "metadata": {},
   "outputs": [
    {
     "data": {
      "text/plain": [
       "2.4142857142857133"
      ]
     },
     "execution_count": 25,
     "metadata": {},
     "output_type": "execute_result"
    }
   ],
   "source": [
    "m"
   ]
  },
  {
   "cell_type": "markdown",
   "id": "5d818dbf",
   "metadata": {},
   "source": [
    "c=\\frac{\\sum y-m*\\sum x}{n}"
   ]
  },
  {
   "cell_type": "code",
   "execution_count": 26,
   "id": "37bf89b2",
   "metadata": {},
   "outputs": [
    {
     "data": {
      "text/plain": [
       "-0.8285714285714231"
      ]
     },
     "execution_count": 26,
     "metadata": {},
     "output_type": "execute_result"
    }
   ],
   "source": [
    "c_nu=sum_y-(m*sum_x)\n",
    "c_den=n\n",
    "c=c_nu/c_den\n",
    "c"
   ]
  },
  {
   "cell_type": "code",
   "execution_count": 27,
   "id": "e9ef2010",
   "metadata": {},
   "outputs": [
    {
     "name": "stdout",
     "output_type": "stream",
     "text": [
      "1\n",
      "2\n",
      "3\n",
      "4\n",
      "5\n",
      "6\n",
      "7\n"
     ]
    }
   ],
   "source": [
    "for x in df['x']: #values of x in the data frame\n",
    "    print(x)"
   ]
  },
  {
   "cell_type": "code",
   "execution_count": 28,
   "id": "debc4e00",
   "metadata": {},
   "outputs": [
    {
     "name": "stdout",
     "output_type": "stream",
     "text": [
      "1.5857142857142903\n",
      "4.0000000000000036\n",
      "6.414285714285717\n",
      "8.82857142857143\n",
      "11.242857142857142\n",
      "13.657142857142857\n",
      "16.07142857142857\n"
     ]
    }
   ],
   "source": [
    "#for x in df['x']: #getting y values prediction\n",
    "    #y_pred=(m*x)+c\n",
    "    #print(y_pred)"
   ]
  },
  {
   "cell_type": "code",
   "execution_count": 33,
   "id": "37538649",
   "metadata": {},
   "outputs": [],
   "source": [
    "y_pred=[(m*x+c) for x in df['x']]\n",
    "df['y_pred']=y_pred"
   ]
  },
  {
   "cell_type": "code",
   "execution_count": 34,
   "id": "c8eef9b8",
   "metadata": {},
   "outputs": [
    {
     "data": {
      "text/html": [
       "<div>\n",
       "<style scoped>\n",
       "    .dataframe tbody tr th:only-of-type {\n",
       "        vertical-align: middle;\n",
       "    }\n",
       "\n",
       "    .dataframe tbody tr th {\n",
       "        vertical-align: top;\n",
       "    }\n",
       "\n",
       "    .dataframe thead th {\n",
       "        text-align: right;\n",
       "    }\n",
       "</style>\n",
       "<table border=\"1\" class=\"dataframe\">\n",
       "  <thead>\n",
       "    <tr style=\"text-align: right;\">\n",
       "      <th></th>\n",
       "      <th>x</th>\n",
       "      <th>y</th>\n",
       "      <th>x2</th>\n",
       "      <th>xy</th>\n",
       "      <th>y_pred</th>\n",
       "    </tr>\n",
       "  </thead>\n",
       "  <tbody>\n",
       "    <tr>\n",
       "      <th>0</th>\n",
       "      <td>1</td>\n",
       "      <td>1.5</td>\n",
       "      <td>1</td>\n",
       "      <td>1.5</td>\n",
       "      <td>1.585714</td>\n",
       "    </tr>\n",
       "    <tr>\n",
       "      <th>1</th>\n",
       "      <td>2</td>\n",
       "      <td>3.8</td>\n",
       "      <td>4</td>\n",
       "      <td>7.6</td>\n",
       "      <td>4.000000</td>\n",
       "    </tr>\n",
       "    <tr>\n",
       "      <th>2</th>\n",
       "      <td>3</td>\n",
       "      <td>6.7</td>\n",
       "      <td>9</td>\n",
       "      <td>20.1</td>\n",
       "      <td>6.414286</td>\n",
       "    </tr>\n",
       "    <tr>\n",
       "      <th>3</th>\n",
       "      <td>4</td>\n",
       "      <td>9.0</td>\n",
       "      <td>16</td>\n",
       "      <td>36.0</td>\n",
       "      <td>8.828571</td>\n",
       "    </tr>\n",
       "    <tr>\n",
       "      <th>4</th>\n",
       "      <td>5</td>\n",
       "      <td>11.2</td>\n",
       "      <td>25</td>\n",
       "      <td>56.0</td>\n",
       "      <td>11.242857</td>\n",
       "    </tr>\n",
       "    <tr>\n",
       "      <th>5</th>\n",
       "      <td>6</td>\n",
       "      <td>13.6</td>\n",
       "      <td>36</td>\n",
       "      <td>81.6</td>\n",
       "      <td>13.657143</td>\n",
       "    </tr>\n",
       "    <tr>\n",
       "      <th>6</th>\n",
       "      <td>7</td>\n",
       "      <td>16.0</td>\n",
       "      <td>49</td>\n",
       "      <td>112.0</td>\n",
       "      <td>16.071429</td>\n",
       "    </tr>\n",
       "  </tbody>\n",
       "</table>\n",
       "</div>"
      ],
      "text/plain": [
       "   x     y  x2     xy     y_pred\n",
       "0  1   1.5   1    1.5   1.585714\n",
       "1  2   3.8   4    7.6   4.000000\n",
       "2  3   6.7   9   20.1   6.414286\n",
       "3  4   9.0  16   36.0   8.828571\n",
       "4  5  11.2  25   56.0  11.242857\n",
       "5  6  13.6  36   81.6  13.657143\n",
       "6  7  16.0  49  112.0  16.071429"
      ]
     },
     "execution_count": 34,
     "metadata": {},
     "output_type": "execute_result"
    }
   ],
   "source": [
    "df"
   ]
  },
  {
   "cell_type": "code",
   "execution_count": 44,
   "id": "53fb78c7",
   "metadata": {},
   "outputs": [
    {
     "data": {
      "image/png": "[encoded data removed]",
      "text/plain": [
       "<Figure size 432x288 with 1 Axes>"
      ]
     },
     "metadata": {
      "needs_background": "light"
     },
     "output_type": "display_data"
    }
   ],
   "source": [
    "plt.scatter(df['x'],df['y']) #with given data\n",
    "plt.plot(df['x'],df['y_pred'],c='r') #with predicted data\n",
    "plt.xlabel('x')\n",
    "plt.ylabel('y',)\n",
    "plt.show()"
   ]
  },
  {
   "cell_type": "code",
   "execution_count": 47,
   "id": "554ca7b6",
   "metadata": {},
   "outputs": [],
   "source": [
    "future_val=[i for i in range(8,15)]\n",
    "y_pred=[(m*x)+c for x in future_val]\n",
    "df[y_pred]=y_pred"
   ]
  },
  {
   "cell_type": "code",
   "execution_count": 48,
   "id": "c95b8944",
   "metadata": {},
   "outputs": [
    {
     "data": {
      "text/html": [
       "<div>\n",
       "<style scoped>\n",
       "    .dataframe tbody tr th:only-of-type {\n",
       "        vertical-align: middle;\n",
       "    }\n",
       "\n",
       "    .dataframe tbody tr th {\n",
       "        vertical-align: top;\n",
       "    }\n",
       "\n",
       "    .dataframe thead th {\n",
       "        text-align: right;\n",
       "    }\n",
       "</style>\n",
       "<table border=\"1\" class=\"dataframe\">\n",
       "  <thead>\n",
       "    <tr style=\"text-align: right;\">\n",
       "      <th></th>\n",
       "      <th>x</th>\n",
       "      <th>y</th>\n",
       "      <th>x2</th>\n",
       "      <th>xy</th>\n",
       "      <th>y_pred</th>\n",
       "      <th>16.07142857142857</th>\n",
       "      <th>18.485714285714284</th>\n",
       "      <th>20.9</th>\n",
       "      <th>23.31428571428571</th>\n",
       "      <th>25.728571428571424</th>\n",
       "      <th>28.14285714285714</th>\n",
       "      <th>30.55714285714285</th>\n",
       "      <th>32.97142857142856</th>\n",
       "    </tr>\n",
       "  </thead>\n",
       "  <tbody>\n",
       "    <tr>\n",
       "      <th>0</th>\n",
       "      <td>1</td>\n",
       "      <td>1.5</td>\n",
       "      <td>1</td>\n",
       "      <td>1.5</td>\n",
       "      <td>1.585714</td>\n",
       "      <td>16.071429</td>\n",
       "      <td>18.485714</td>\n",
       "      <td>20.9</td>\n",
       "      <td>23.314286</td>\n",
       "      <td>25.728571</td>\n",
       "      <td>28.142857</td>\n",
       "      <td>30.557143</td>\n",
       "      <td>32.971429</td>\n",
       "    </tr>\n",
       "    <tr>\n",
       "      <th>1</th>\n",
       "      <td>2</td>\n",
       "      <td>3.8</td>\n",
       "      <td>4</td>\n",
       "      <td>7.6</td>\n",
       "      <td>4.000000</td>\n",
       "      <td>16.071429</td>\n",
       "      <td>18.485714</td>\n",
       "      <td>20.9</td>\n",
       "      <td>23.314286</td>\n",
       "      <td>25.728571</td>\n",
       "      <td>28.142857</td>\n",
       "      <td>30.557143</td>\n",
       "      <td>32.971429</td>\n",
       "    </tr>\n",
       "    <tr>\n",
       "      <th>2</th>\n",
       "      <td>3</td>\n",
       "      <td>6.7</td>\n",
       "      <td>9</td>\n",
       "      <td>20.1</td>\n",
       "      <td>6.414286</td>\n",
       "      <td>16.071429</td>\n",
       "      <td>18.485714</td>\n",
       "      <td>20.9</td>\n",
       "      <td>23.314286</td>\n",
       "      <td>25.728571</td>\n",
       "      <td>28.142857</td>\n",
       "      <td>30.557143</td>\n",
       "      <td>32.971429</td>\n",
       "    </tr>\n",
       "    <tr>\n",
       "      <th>3</th>\n",
       "      <td>4</td>\n",
       "      <td>9.0</td>\n",
       "      <td>16</td>\n",
       "      <td>36.0</td>\n",
       "      <td>8.828571</td>\n",
       "      <td>16.071429</td>\n",
       "      <td>18.485714</td>\n",
       "      <td>20.9</td>\n",
       "      <td>23.314286</td>\n",
       "      <td>25.728571</td>\n",
       "      <td>28.142857</td>\n",
       "      <td>30.557143</td>\n",
       "      <td>32.971429</td>\n",
       "    </tr>\n",
       "    <tr>\n",
       "      <th>4</th>\n",
       "      <td>5</td>\n",
       "      <td>11.2</td>\n",
       "      <td>25</td>\n",
       "      <td>56.0</td>\n",
       "      <td>11.242857</td>\n",
       "      <td>16.071429</td>\n",
       "      <td>18.485714</td>\n",
       "      <td>20.9</td>\n",
       "      <td>23.314286</td>\n",
       "      <td>25.728571</td>\n",
       "      <td>28.142857</td>\n",
       "      <td>30.557143</td>\n",
       "      <td>32.971429</td>\n",
       "    </tr>\n",
       "    <tr>\n",
       "      <th>5</th>\n",
       "      <td>6</td>\n",
       "      <td>13.6</td>\n",
       "      <td>36</td>\n",
       "      <td>81.6</td>\n",
       "      <td>13.657143</td>\n",
       "      <td>16.071429</td>\n",
       "      <td>18.485714</td>\n",
       "      <td>20.9</td>\n",
       "      <td>23.314286</td>\n",
       "      <td>25.728571</td>\n",
       "      <td>28.142857</td>\n",
       "      <td>30.557143</td>\n",
       "      <td>32.971429</td>\n",
       "    </tr>\n",
       "    <tr>\n",
       "      <th>6</th>\n",
       "      <td>7</td>\n",
       "      <td>16.0</td>\n",
       "      <td>49</td>\n",
       "      <td>112.0</td>\n",
       "      <td>16.071429</td>\n",
       "      <td>16.071429</td>\n",
       "      <td>18.485714</td>\n",
       "      <td>20.9</td>\n",
       "      <td>23.314286</td>\n",
       "      <td>25.728571</td>\n",
       "      <td>28.142857</td>\n",
       "      <td>30.557143</td>\n",
       "      <td>32.971429</td>\n",
       "    </tr>\n",
       "  </tbody>\n",
       "</table>\n",
       "</div>"
      ],
      "text/plain": [
       "   x     y  x2     xy     y_pred  16.07142857142857  18.485714285714284  20.9  \\\n",
       "0  1   1.5   1    1.5   1.585714          16.071429           18.485714  20.9   \n",
       "1  2   3.8   4    7.6   4.000000          16.071429           18.485714  20.9   \n",
       "2  3   6.7   9   20.1   6.414286          16.071429           18.485714  20.9   \n",
       "3  4   9.0  16   36.0   8.828571          16.071429           18.485714  20.9   \n",
       "4  5  11.2  25   56.0  11.242857          16.071429           18.485714  20.9   \n",
       "5  6  13.6  36   81.6  13.657143          16.071429           18.485714  20.9   \n",
       "6  7  16.0  49  112.0  16.071429          16.071429           18.485714  20.9   \n",
       "\n",
       "   23.31428571428571  25.728571428571424  28.14285714285714  \\\n",
       "0          23.314286           25.728571          28.142857   \n",
       "1          23.314286           25.728571          28.142857   \n",
       "2          23.314286           25.728571          28.142857   \n",
       "3          23.314286           25.728571          28.142857   \n",
       "4          23.314286           25.728571          28.142857   \n",
       "5          23.314286           25.728571          28.142857   \n",
       "6          23.314286           25.728571          28.142857   \n",
       "\n",
       "   30.55714285714285  32.97142857142856  \n",
       "0          30.557143          32.971429  \n",
       "1          30.557143          32.971429  \n",
       "2          30.557143          32.971429  \n",
       "3          30.557143          32.971429  \n",
       "4          30.557143          32.971429  \n",
       "5          30.557143          32.971429  \n",
       "6          30.557143          32.971429  "
      ]
     },
     "execution_count": 48,
     "metadata": {},
     "output_type": "execute_result"
    }
   ],
   "source": [
    "df\n"
   ]
  },
  {
   "cell_type": "code",
   "execution_count": 49,
   "id": "7cbd55b6",
   "metadata": {},
   "outputs": [
    {
     "name": "stdout",
     "output_type": "stream",
     "text": [
      "0\n",
      "1\n",
      "2\n",
      "3\n",
      "4\n",
      "5\n",
      "6\n",
      "7\n",
      "8\n",
      "9\n"
     ]
    }
   ],
   "source": [
    "#UK1\n",
    "for i in range(10):\n",
    "    print(i)"
   ]
  },
  {
   "cell_type": "code",
   "execution_count": 52,
   "id": "9aa45b4e",
   "metadata": {},
   "outputs": [
    {
     "data": {
      "text/plain": [
       "[0, 1, 2, 3, 4, 5, 6, 7, 8, 9]"
      ]
     },
     "execution_count": 52,
     "metadata": {},
     "output_type": "execute_result"
    }
   ],
   "source": [
    "#uk2\n",
    "[i for i in range(10)]"
   ]
  },
  {
   "cell_type": "markdown",
   "id": "221add9d",
   "metadata": {},
   "source": [
    "sserror=\\sum (yorg-ypredic)^{2})"
   ]
  },
  {
   "cell_type": "code",
   "execution_count": 57,
   "id": "ef4723fc",
   "metadata": {},
   "outputs": [
    {
     "data": {
      "text/plain": [
       "0.16857142857142873"
      ]
     },
     "execution_count": 57,
     "metadata": {},
     "output_type": "execute_result"
    }
   ],
   "source": [
    "summ=0\n",
    "for y_pred,y_org in zip(df['y_pred'],df['y']):\n",
    "    summ+=(y_pred-y_org)**2\n",
    "summ\n",
    "    "
   ]
  },
  {
   "cell_type": "code",
   "execution_count": null,
   "id": "e3935153",
   "metadata": {},
   "outputs": [],
   "source": [
    "#or\n",
    "make this code using classses"
   ]
  }
 ],
 "metadata": {
  "kernelspec": {
   "display_name": "Python 3",
   "language": "python",
   "name": "python3"
  },
  "language_info": {
   "codemirror_mode": {
    "name": "ipython",
    "version": 3
   },
   "file_extension": ".py",
   "mimetype": "text/x-python",
   "name": "python",
   "nbconvert_exporter": "python",
   "pygments_lexer": "ipython3",
   "version": "3.8.8"
  }
 },
 "nbformat": 4,
 "nbformat_minor": 5
}
